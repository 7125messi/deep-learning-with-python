{
 "cells": [
  {
   "cell_type": "markdown",
   "metadata": {},
   "source": [
    "想要将深度学习应用于**小型图像数据集**，一种常用且非常高效的方法是**使用预训练网络**。\n",
    "**预训练网络（pretrained network）是一个保存好的网络，之前已在大型数据集（通常是大规模图像分类任务）上训练好**。如果这个原始数据集足够大且足够通用，那么预训练网络学到的特征的空间层次结构可以有效地作为视觉世界的通用模型，因此这些特征可用于各种不同的计算机视觉问题，即使这些新问题涉及的类别和原始任务完全不同。\n",
    "\n",
    "本例中，假设有一个在`ImageNet`数据集（`140万`张标记图像，`1000`个不同的类别）上训练好的大型卷积神经网络。ImageNet 中包含许多动物类别，其中包括不同种类的猫和狗，因此可以认为它在猫狗分类问题上也能有良好的表现。\n",
    "\n",
    "# 1 VGG16 架构\n",
    "\n",
    "对于`ImageNet`，它是一种简单而又广泛使用的卷积神经网络架构。虽然`VGG16`是一个比较旧的模型，性能远比不了当前最先进的模型，而且还比许多新模型更为复杂，但我之所以选择它，是因为它的架构与你已经熟悉的架构很相似，因此无须引入新概念就可以很好地理解。`[VGG、ResNet、Inception、Inception-ResNet、Xception]`\n",
    "\n",
    "使用**预训练网络**有两种方法：`特征提取（feature extraction）`和`微调模型（fine-tuning）`。两种方法我们都会介绍。首先来看特征提取。"
   ]
  },
  {
   "cell_type": "markdown",
   "metadata": {},
   "source": [
    "# 2 特征提取\n",
    "\n",
    "特征提取是使用之前网络学到的表示来从新样本中提取出有趣的特征。然后将这些特征输入一个新的分类器，从头开始训练。\n",
    "\n",
    "用于图像分类的卷积神经网络包含两部分：\n",
    "\n",
    "* 首先是一系列池化层和卷积层，第一部分叫作`模型的卷积基（convolutional base）`\n",
    "\n",
    "* 最后是一个全连接分类器。\n",
    "\n",
    "对于卷积神经网络而言，特征提取就是取出之前训练好的网络的卷积基，在上面运行新数据，然后在输出上面训练一个新的分类器\n",
    "\n",
    "![image.png](../img/05/保持卷积基不变改变分类器.png)\n",
    "\n",
    "## 2.1 为什么仅重复使用卷积基？我们能否也重复使用全连接分类器？\n",
    "\n",
    "一般来说，应该避免这么做。原因在于**卷积基学到的表示可能更加通用，因此更适合重复使用**。卷积神经网络的特征图表示通用概念在图像中是否存在，无论面对什么样的计算机视觉问题，这种特征图都可能很有用。但是，分类器学到的表示必然是针对于模型训练的类别，其中仅包含某个类别出现在整张图像中的概率信息。此外，**全连接层的表示不再包含物体在输入图像中的位置信息。全连接层舍弃了空间的概念，而物体位置信息仍然由卷积特征图所描述。如果物体位置对于问题很重要，那么全连接层的特征在很大程度上是无用的。**\n",
    "\n",
    "* （1）**某个卷积层提取的表示的通用性（以及可复用性）取决于该层在模型中的深度。**\n",
    "\n",
    "* （2）**模型中更靠近底部的层提取的是局部的、高度通用的特征图（比如视觉边缘、颜色和纹理），而更靠近顶部的层提取的是更加抽象的概念（比如“猫耳朵”或“狗眼睛”）——这里更靠近底部的层是指在定义模型时先添加到模型中的层，而更靠近顶部的层则是后添加到模型中的层**\n",
    "\n",
    "* （3）如果你的新数据集与原始模型训练的数据集有很大差异，那么最好只使用模型的前几层来做特征提取，而不是使用整个卷积基。\n",
    "\n",
    "在`ImageNet`上训练的`VGG16`[Very Deep Convolutional Networks for Large-Scale Image Recognition](\n",
    "    https://arxiv.org/abs/1409.1556)网络的卷积基从猫狗图像中提取有趣的特征，然后在这些特征上训练一个猫狗分类器。\n",
    "\n",
    "下面是`keras.applications`中的一部分图像分类模型（都是在`ImageNet`数据集上预训练得到的）\n",
    "\n",
    "* Xception\n",
    "* Inception V3\n",
    "* ResNet50\n",
    "* VGG16\n",
    "* VGG19\n",
    "* MobileNet"
   ]
  },
  {
   "cell_type": "code",
   "execution_count": 1,
   "metadata": {},
   "outputs": [
    {
     "name": "stderr",
     "output_type": "stream",
     "text": [
      "Using TensorFlow backend.\n"
     ]
    },
    {
     "data": {
      "text/plain": [
       "'2.2.4'"
      ]
     },
     "execution_count": 1,
     "metadata": {},
     "output_type": "execute_result"
    }
   ],
   "source": [
    "import keras\n",
    "keras.__version__"
   ]
  },
  {
   "cell_type": "code",
   "execution_count": 2,
   "metadata": {},
   "outputs": [
    {
     "name": "stdout",
     "output_type": "stream",
     "text": [
      "Downloading data from https://github.com/fchollet/deep-learning-models/releases/download/v0.1/vgg16_weights_tf_dim_ordering_tf_kernels_notop.h5\n",
      "58892288/58889256 [==============================] - 22s 0us/step\n"
     ]
    }
   ],
   "source": [
    "# 将VGG16卷积基实例化\n",
    "from keras.applications import VGG16\n",
    "conv_base = VGG16(weights='imagenet',\n",
    "                  include_top=False,\n",
    "                  input_shape=(150, 150, 3))"
   ]
  },
  {
   "cell_type": "markdown",
   "metadata": {},
   "source": [
    "这里向构造函数中传入了三个参数。\n",
    "\n",
    "* `weights` **指定模型初始化的权重检查点**。\n",
    "\n",
    "* `include_top` 指定模型最后**是否包含全连接分类器**。默认情况下，这个**全连接分类器对应于`ImageNet`的`1000`个类别。因为我们打算使用自己的全连接分类器（只有两个类别：`cat`和`dog`），所以不需要包含它。\n",
    "\n",
    "* `input_shape` 是输入到网络中的图像张量的形状。这个参数完全是可选的，**如果不传入这个参数，那么网络能够处理任意形状的输入。**\n",
    "\n",
    "**VGG16卷积基**的详细架构如下所示。它和你已经熟悉的简单卷积神经网络很相似。"
   ]
  },
  {
   "cell_type": "code",
   "execution_count": 3,
   "metadata": {},
   "outputs": [
    {
     "name": "stdout",
     "output_type": "stream",
     "text": [
      "_________________________________________________________________\n",
      "Layer (type)                 Output Shape              Param #   \n",
      "=================================================================\n",
      "input_1 (InputLayer)         (None, 150, 150, 3)       0         \n",
      "_________________________________________________________________\n",
      "block1_conv1 (Conv2D)        (None, 150, 150, 64)      1792      \n",
      "_________________________________________________________________\n",
      "block1_conv2 (Conv2D)        (None, 150, 150, 64)      36928     \n",
      "_________________________________________________________________\n",
      "block1_pool (MaxPooling2D)   (None, 75, 75, 64)        0         \n",
      "_________________________________________________________________\n",
      "block2_conv1 (Conv2D)        (None, 75, 75, 128)       73856     \n",
      "_________________________________________________________________\n",
      "block2_conv2 (Conv2D)        (None, 75, 75, 128)       147584    \n",
      "_________________________________________________________________\n",
      "block2_pool (MaxPooling2D)   (None, 37, 37, 128)       0         \n",
      "_________________________________________________________________\n",
      "block3_conv1 (Conv2D)        (None, 37, 37, 256)       295168    \n",
      "_________________________________________________________________\n",
      "block3_conv2 (Conv2D)        (None, 37, 37, 256)       590080    \n",
      "_________________________________________________________________\n",
      "block3_conv3 (Conv2D)        (None, 37, 37, 256)       590080    \n",
      "_________________________________________________________________\n",
      "block3_pool (MaxPooling2D)   (None, 18, 18, 256)       0         \n",
      "_________________________________________________________________\n",
      "block4_conv1 (Conv2D)        (None, 18, 18, 512)       1180160   \n",
      "_________________________________________________________________\n",
      "block4_conv2 (Conv2D)        (None, 18, 18, 512)       2359808   \n",
      "_________________________________________________________________\n",
      "block4_conv3 (Conv2D)        (None, 18, 18, 512)       2359808   \n",
      "_________________________________________________________________\n",
      "block4_pool (MaxPooling2D)   (None, 9, 9, 512)         0         \n",
      "_________________________________________________________________\n",
      "block5_conv1 (Conv2D)        (None, 9, 9, 512)         2359808   \n",
      "_________________________________________________________________\n",
      "block5_conv2 (Conv2D)        (None, 9, 9, 512)         2359808   \n",
      "_________________________________________________________________\n",
      "block5_conv3 (Conv2D)        (None, 9, 9, 512)         2359808   \n",
      "_________________________________________________________________\n",
      "block5_pool (MaxPooling2D)   (None, 4, 4, 512)         0         \n",
      "=================================================================\n",
      "Total params: 14,714,688\n",
      "Trainable params: 14,714,688\n",
      "Non-trainable params: 0\n",
      "_________________________________________________________________\n"
     ]
    }
   ],
   "source": [
    "conv_base.summary()"
   ]
  },
  {
   "cell_type": "markdown",
   "metadata": {},
   "source": [
    "最后的特征图形状为`(4, 4, 512)`。我们将在这个特征上添加一个**全连接分类器**。\n",
    "\n",
    "接下来，下一步有两种方法可供选择。\n",
    "\n",
    "* （1）数据集上运行卷积基，将输出保存成硬盘中的`Numpy`数组，然后用这个数据作为输入，输入到独立的全连接分类器中。这种方法速度快，计算代价低，因为对于每个输入图像只需运行一次卷积基，**而卷积基是目前流程中计算代价最高的**。但出于同样的原因，**这种方法不允许你使用数据增强**。\n",
    "* （2）在顶部添加`Dense`层来扩展已有模型（即`conv_base`），并在输入数据上端到端地运行整个模型。这样你**可以使用数据增强**，因为每个输入图像进入模型时都会经过卷积基。但出于同样的原因，这种方法的计算代价比第一种要高很多。\n",
    "\n",
    "1. 不使用数据增强的快速特征提取\n",
    "\n",
    "保存你的数据在`conv_base`中的输出，然后将这些输出作为输入用于新模型\n",
    "\n",
    "运行`ImageDataGenerator`实例，将图像及其标签提取为`Numpy`数组。我们需要调用`conv_base`模型的`predict`方法来从这些图像中提取特征。"
   ]
  },
  {
   "cell_type": "code",
   "execution_count": 5,
   "metadata": {},
   "outputs": [
    {
     "name": "stdout",
     "output_type": "stream",
     "text": [
      "Found 2000 images belonging to 2 classes.\n",
      "Found 1000 images belonging to 2 classes.\n",
      "Found 1000 images belonging to 2 classes.\n"
     ]
    }
   ],
   "source": [
    "# 使用预训练的卷积基提取特征\n",
    "import os\n",
    "import numpy as np\n",
    "from keras.preprocessing.image import ImageDataGenerator\n",
    "\n",
    "base_dir = r'D:\\git\\deep-learning-with-python\\data\\cats_and_dogs_small'\n",
    "\n",
    "train_dir = os.path.join(base_dir, 'train')\n",
    "validation_dir = os.path.join(base_dir, 'validation')\n",
    "test_dir = os.path.join(base_dir, 'test')\n",
    "\n",
    "datagen = ImageDataGenerator(rescale=1./255)\n",
    "batch_size = 20\n",
    "\n",
    "def extract_features(directory, sample_count):\n",
    "    features = np.zeros(shape=(sample_count, 4, 4, 512))\n",
    "    labels = np.zeros(shape=(sample_count))\n",
    "    generator = datagen.flow_from_directory(\n",
    "        directory,\n",
    "        target_size=(150, 150),\n",
    "        batch_size=batch_size,\n",
    "        class_mode='binary')\n",
    "    i = 0\n",
    "    \n",
    "    for inputs_batch, labels_batch in generator:\n",
    "        features_batch = conv_base.predict(inputs_batch)\n",
    "        features[i * batch_size : (i + 1) * batch_size] = features_batch\n",
    "        labels[i * batch_size : (i + 1) * batch_size] = labels_batch\n",
    "        i += 1\n",
    "        if i * batch_size >= sample_count:\n",
    "            # 注意，这些生成器在循环中不断生成数据，所以你必须在读取完所有图像后终止循环\n",
    "            break\n",
    "    return features, labels\n",
    "\n",
    "train_features, train_labels = extract_features(train_dir, 2000)\n",
    "validation_features, validation_labels = extract_features(validation_dir, 1000)\n",
    "test_features, test_labels = extract_features(test_dir, 1000)"
   ]
  },
  {
   "cell_type": "code",
   "execution_count": 6,
   "metadata": {},
   "outputs": [
    {
     "name": "stdout",
     "output_type": "stream",
     "text": [
      "(2000, 4, 4, 512)\n",
      "(1000, 4, 4, 512)\n",
      "(1000, 4, 4, 512)\n",
      "(2000,)\n",
      "(1000,)\n",
      "(1000,)\n"
     ]
    }
   ],
   "source": [
    "print(train_features.shape)\n",
    "print(validation_features.shape)\n",
    "print(test_features.shape)\n",
    "\n",
    "print(train_labels.shape)\n",
    "print(validation_labels.shape)\n",
    "print(test_labels.shape)"
   ]
  },
  {
   "cell_type": "code",
   "execution_count": 7,
   "metadata": {},
   "outputs": [],
   "source": [
    "# 提取的特征形状为 (samples, 4, 4, 512)。我们要将其输入到全连接分类器中，所以首先必须将其形状展平为 (samples, 8192)\n",
    "train_features = np.reshape(train_features, (2000, 4 * 4 * 512))\n",
    "validation_features = np.reshape(validation_features, (1000, 4 * 4 * 512))\n",
    "test_features = np.reshape(test_features, (1000, 4 * 4 * 512))"
   ]
  },
  {
   "cell_type": "code",
   "execution_count": 8,
   "metadata": {},
   "outputs": [
    {
     "name": "stdout",
     "output_type": "stream",
     "text": [
      "Train on 2000 samples, validate on 1000 samples\n",
      "Epoch 1/30\n",
      "2000/2000 [==============================] - 4s 2ms/step - loss: 0.5769 - acc: 0.6845 - val_loss: 0.4436 - val_acc: 0.8110\n",
      "Epoch 2/30\n",
      "2000/2000 [==============================] - 2s 1ms/step - loss: 0.4320 - acc: 0.8000 - val_loss: 0.3654 - val_acc: 0.8640\n",
      "Epoch 3/30\n",
      "2000/2000 [==============================] - 3s 1ms/step - loss: 0.3484 - acc: 0.8600 - val_loss: 0.3229 - val_acc: 0.8780\n",
      "Epoch 4/30\n",
      "2000/2000 [==============================] - 2s 1ms/step - loss: 0.3102 - acc: 0.8725 - val_loss: 0.3049 - val_acc: 0.8780\n",
      "Epoch 5/30\n",
      "2000/2000 [==============================] - 2s 1ms/step - loss: 0.2916 - acc: 0.8790 - val_loss: 0.2852 - val_acc: 0.8860\n",
      "Epoch 6/30\n",
      "2000/2000 [==============================] - 2s 1ms/step - loss: 0.2655 - acc: 0.8955 - val_loss: 0.2867 - val_acc: 0.8800\n",
      "Epoch 7/30\n",
      "2000/2000 [==============================] - 2s 1ms/step - loss: 0.2476 - acc: 0.9080 - val_loss: 0.2662 - val_acc: 0.8940\n",
      "Epoch 8/30\n",
      "2000/2000 [==============================] - 2s 1ms/step - loss: 0.2355 - acc: 0.9085 - val_loss: 0.2577 - val_acc: 0.8960\n",
      "Epoch 9/30\n",
      "2000/2000 [==============================] - 2s 1ms/step - loss: 0.2244 - acc: 0.9140 - val_loss: 0.2525 - val_acc: 0.9010\n",
      "Epoch 10/30\n",
      "2000/2000 [==============================] - 2s 1ms/step - loss: 0.2069 - acc: 0.9225 - val_loss: 0.2559 - val_acc: 0.8930\n",
      "Epoch 11/30\n",
      "2000/2000 [==============================] - 2s 1ms/step - loss: 0.2001 - acc: 0.9295 - val_loss: 0.2479 - val_acc: 0.8980\n",
      "Epoch 12/30\n",
      "2000/2000 [==============================] - 2s 1ms/step - loss: 0.1932 - acc: 0.9255 - val_loss: 0.2431 - val_acc: 0.8980\n",
      "Epoch 13/30\n",
      "2000/2000 [==============================] - 2s 1ms/step - loss: 0.1780 - acc: 0.9395 - val_loss: 0.2486 - val_acc: 0.9010\n",
      "Epoch 14/30\n",
      "2000/2000 [==============================] - 2s 1ms/step - loss: 0.1746 - acc: 0.9355 - val_loss: 0.2417 - val_acc: 0.8990\n",
      "Epoch 15/30\n",
      "2000/2000 [==============================] - 2s 1ms/step - loss: 0.1671 - acc: 0.9385 - val_loss: 0.2393 - val_acc: 0.9040\n",
      "Epoch 16/30\n",
      "2000/2000 [==============================] - 2s 1ms/step - loss: 0.1554 - acc: 0.9490 - val_loss: 0.2382 - val_acc: 0.9060A: 1s - loss: 0.1557 - - ETA: 0s - loss: 0.1530 - acc:\n",
      "Epoch 17/30\n",
      "2000/2000 [==============================] - 2s 1ms/step - loss: 0.1533 - acc: 0.9430 - val_loss: 0.2367 - val_acc: 0.9030\n",
      "Epoch 18/30\n",
      "2000/2000 [==============================] - 2s 1ms/step - loss: 0.1431 - acc: 0.9505 - val_loss: 0.2345 - val_acc: 0.9040TA: 1s - loss:\n",
      "Epoch 19/30\n",
      "2000/2000 [==============================] - 2s 1ms/step - loss: 0.1412 - acc: 0.9480 - val_loss: 0.2351 - val_acc: 0.9030\n",
      "Epoch 20/30\n",
      "2000/2000 [==============================] - 2s 1ms/step - loss: 0.1369 - acc: 0.9580 - val_loss: 0.2553 - val_acc: 0.8970 0s - loss: 0.1418 - acc:\n",
      "Epoch 21/30\n",
      "2000/2000 [==============================] - 2s 1ms/step - loss: 0.1277 - acc: 0.9600 - val_loss: 0.2379 - val_acc: 0.9040\n",
      "Epoch 22/30\n",
      "2000/2000 [==============================] - 2s 1ms/step - loss: 0.1200 - acc: 0.9605 - val_loss: 0.2344 - val_acc: 0.9090\n",
      "Epoch 23/30\n",
      "2000/2000 [==============================] - 2s 1ms/step - loss: 0.1214 - acc: 0.9570 - val_loss: 0.2329 - val_acc: 0.9040\n",
      "Epoch 24/30\n",
      "2000/2000 [==============================] - 2s 1ms/step - loss: 0.1190 - acc: 0.9575 - val_loss: 0.2380 - val_acc: 0.9070\n",
      "Epoch 25/30\n",
      "2000/2000 [==============================] - 2s 1ms/step - loss: 0.1066 - acc: 0.9645 - val_loss: 0.2356 - val_acc: 0.9050\n",
      "Epoch 26/30\n",
      "2000/2000 [==============================] - 2s 1ms/step - loss: 0.1039 - acc: 0.9670 - val_loss: 0.2350 - val_acc: 0.9030\n",
      "Epoch 27/30\n",
      "2000/2000 [==============================] - 2s 1ms/step - loss: 0.1026 - acc: 0.9680 - val_loss: 0.2398 - val_acc: 0.9070\n",
      "Epoch 28/30\n",
      "2000/2000 [==============================] - 2s 1ms/step - loss: 0.0981 - acc: 0.9665 - val_loss: 0.2352 - val_acc: 0.9060\n",
      "Epoch 29/30\n",
      "2000/2000 [==============================] - 2s 1ms/step - loss: 0.0924 - acc: 0.9690 - val_loss: 0.2343 - val_acc: 0.9050\n",
      "Epoch 30/30\n",
      "2000/2000 [==============================] - 2s 1ms/step - loss: 0.0918 - acc: 0.9725 - val_loss: 0.2354 - val_acc: 0.9060\n"
     ]
    }
   ],
   "source": [
    "# 定义全连接分类器（注意要使用 dropout 正则化），并在刚刚保存的数据和标签上训练这个分类器。\n",
    "# 定义并训练全连接分类器\n",
    "\n",
    "from keras import models\n",
    "from keras import layers\n",
    "from keras import optimizers\n",
    "\n",
    "model = models.Sequential()\n",
    "model.add(layers.Dense(256, activation='relu', input_dim=4 * 4 * 512))\n",
    "model.add(layers.Dropout(0.5))\n",
    "model.add(layers.Dense(1, activation='sigmoid'))\n",
    "\n",
    "model.compile(optimizer=optimizers.RMSprop(lr=2e-5),\n",
    "              loss='binary_crossentropy',\n",
    "              metrics=['acc'])\n",
    "\n",
    "history = model.fit(train_features, train_labels,\n",
    "                    epochs=30,\n",
    "                    batch_size=20,\n",
    "                    validation_data=(validation_features, validation_labels))"
   ]
  },
  {
   "cell_type": "code",
   "execution_count": 9,
   "metadata": {},
   "outputs": [
    {
     "data": {
      "image/png": "[encoded data removed]",
      "text/plain": [
       "<Figure size 432x288 with 1 Axes>"
      ]
     },
     "metadata": {
      "needs_background": "light"
     },
     "output_type": "display_data"
    },
    {
     "data": {
      "image/png": "[encoded data removed]",
      "text/plain": [
       "<Figure size 432x288 with 1 Axes>"
      ]
     },
     "metadata": {
      "needs_background": "light"
     },
     "output_type": "display_data"
    }
   ],
   "source": [
    "# 训练期间的损失曲线和精度曲线\n",
    "%matplotlib inline\n",
    "import matplotlib.pyplot as plt\n",
    "\n",
    "acc = history.history['acc']\n",
    "val_acc = history.history['val_acc']\n",
    "loss = history.history['loss']\n",
    "val_loss = history.history['val_loss']\n",
    "\n",
    "epochs = range(len(acc))\n",
    "\n",
    "plt.plot(epochs, acc, 'bo', label='Training acc')\n",
    "plt.plot(epochs, val_acc, 'b', label='Validation acc')\n",
    "plt.title('Training and validation accuracy')\n",
    "plt.legend()\n",
    "\n",
    "plt.figure()\n",
    "\n",
    "plt.plot(epochs, loss, 'bo', label='Training loss')\n",
    "plt.plot(epochs, val_loss, 'b', label='Validation loss')\n",
    "plt.title('Training and validation loss')\n",
    "plt.legend()\n",
    "\n",
    "plt.show()"
   ]
  },
  {
   "cell_type": "markdown",
   "metadata": {},
   "source": [
    "我们的验证精度达到了约`90%`，比上一节从头开始训练的小型模型效果要好得多。但从图中也可以看出，虽然`dropout`比率相当大，但模型几乎从一开始就过拟合。这是因为**本方法没有使用数据增强**，而**数据增强对防止小型图像数据集的过拟合非常重要**。"
   ]
  },
  {
   "cell_type": "markdown",
   "metadata": {},
   "source": [
    "2. 使用数据增强的特征提取\n",
    "\n",
    "特征提取的第二种方法，它的速度更慢，计算代价更高，但在训练期间可以使用数据增强。这种方法就是：扩展`conv_base`模型，然后在输入数据上端到端地运行模型。\n",
    "\n",
    "> 注意 本方法计算代价很高，只在有`GPU`的情况下才能尝试运行。它在`CPU`上是绝对难以运行的。如果你无法在`GPU`上运行代码，那么就采用第一种方法。"
   ]
  },
  {
   "cell_type": "code",
   "execution_count": 10,
   "metadata": {},
   "outputs": [],
   "source": [
    "# 在卷积基上添加一个全连接分类器\n",
    "\n",
    "from keras import models\n",
    "from keras import layers\n",
    "\n",
    "model = models.Sequential()\n",
    "model.add(conv_base)\n",
    "model.add(layers.Flatten())\n",
    "model.add(layers.Dense(256, activation='relu'))\n",
    "model.add(layers.Dense(1, activation='sigmoid'))"
   ]
  },
  {
   "cell_type": "code",
   "execution_count": 11,
   "metadata": {},
   "outputs": [
    {
     "name": "stdout",
     "output_type": "stream",
     "text": [
      "_________________________________________________________________\n",
      "Layer (type)                 Output Shape              Param #   \n",
      "=================================================================\n",
      "vgg16 (Model)                (None, 4, 4, 512)         14714688  \n",
      "_________________________________________________________________\n",
      "flatten_1 (Flatten)          (None, 8192)              0         \n",
      "_________________________________________________________________\n",
      "dense_3 (Dense)              (None, 256)               2097408   \n",
      "_________________________________________________________________\n",
      "dense_4 (Dense)              (None, 1)                 257       \n",
      "=================================================================\n",
      "Total params: 16,812,353\n",
      "Trainable params: 16,812,353\n",
      "Non-trainable params: 0\n",
      "_________________________________________________________________\n"
     ]
    }
   ],
   "source": [
    "model.summary()"
   ]
  },
  {
   "cell_type": "code",
   "execution_count": 12,
   "metadata": {},
   "outputs": [],
   "source": [
    "# 导出网络结构图\n",
    "from keras.utils.vis_utils import plot_model\n",
    "plot_model(model, to_file = '../img/05/data_augmentation_of_feature_extract.png')"
   ]
  },
  {
   "cell_type": "markdown",
   "metadata": {},
   "source": [
    "* VGG16 的卷积基有 `14 714 688` 个参数，非常多。在其上添加的分类器有 `200` 万个参数。\n",
    "\n",
    "* 在编译和训练模型之前，一定要**“冻结”卷积基**。**冻结（`freeze`）一个或多个层是指在训练过程中保持其权重不变**。如果不这么做，那么**卷积基之前学到的表示将会在训练过程中被修改**。因为其上添加的 `Dense` 层是随机初始化的，所以**非常大的权重更新将会在网络中传播，对之前学到的表示造成很大破坏**。\n",
    "\n",
    "* 在 `Keras` 中，**冻结网络的方法**是将其 `trainable` 属性设为 `False`"
   ]
  },
  {
   "cell_type": "code",
   "execution_count": 13,
   "metadata": {},
   "outputs": [
    {
     "name": "stdout",
     "output_type": "stream",
     "text": [
      "This is the number of trainable weights before freezing the conv base: 30\n"
     ]
    }
   ],
   "source": [
    "print('This is the number of trainable weights before freezing the conv base:', len(model.trainable_weights))"
   ]
  },
  {
   "cell_type": "code",
   "execution_count": 14,
   "metadata": {},
   "outputs": [
    {
     "name": "stdout",
     "output_type": "stream",
     "text": [
      "This is the number of trainable weights after freezing the conv base: 4\n"
     ]
    }
   ],
   "source": [
    "conv_base.trainable = False\n",
    "print('This is the number of trainable weights after freezing the conv base:', len(model.trainable_weights))"
   ]
  },
  {
   "cell_type": "markdown",
   "metadata": {},
   "source": [
    "如此设置之后，只有添加的两个 `Dense` 层的权重才会被训练。总共有 `4` 个权重张量，每层 `2` 个（主权重矩阵和偏置向量）。注意，为了让这些修改生效，你必须先编译模型。如果在编译之后修改了权重的 `trainable` 属性，那么应该重新编译模型，否则这些修改将被忽略。"
   ]
  },
  {
   "cell_type": "code",
   "execution_count": 15,
   "metadata": {},
   "outputs": [
    {
     "name": "stdout",
     "output_type": "stream",
     "text": [
      "Found 2000 images belonging to 2 classes.\n",
      "Found 1000 images belonging to 2 classes.\n",
      "Epoch 1/30\n",
      " - 53s - loss: 0.5875 - acc: 0.7005 - val_loss: 0.4452 - val_acc: 0.8090\n",
      "Epoch 2/30\n",
      " - 57s - loss: 0.4848 - acc: 0.7775 - val_loss: 0.3604 - val_acc: 0.8640\n",
      "Epoch 3/30\n",
      " - 61s - loss: 0.4294 - acc: 0.8075 - val_loss: 0.3377 - val_acc: 0.8520\n",
      "Epoch 4/30\n",
      " - 62s - loss: 0.4117 - acc: 0.8115 - val_loss: 0.3092 - val_acc: 0.8690\n",
      "Epoch 5/30\n",
      " - 63s - loss: 0.3819 - acc: 0.8300 - val_loss: 0.3028 - val_acc: 0.8760\n",
      "Epoch 6/30\n",
      " - 67s - loss: 0.3765 - acc: 0.8275 - val_loss: 0.2811 - val_acc: 0.8840\n",
      "Epoch 7/30\n",
      " - 67s - loss: 0.3602 - acc: 0.8455 - val_loss: 0.2843 - val_acc: 0.8760\n",
      "Epoch 8/30\n",
      " - 109s - loss: 0.3522 - acc: 0.8510 - val_loss: 0.2659 - val_acc: 0.8880\n",
      "Epoch 9/30\n",
      " - 64s - loss: 0.3439 - acc: 0.8540 - val_loss: 0.2640 - val_acc: 0.8880\n",
      "Epoch 10/30\n",
      " - 65s - loss: 0.3525 - acc: 0.8455 - val_loss: 0.2672 - val_acc: 0.8880\n",
      "Epoch 11/30\n",
      " - 65s - loss: 0.3362 - acc: 0.8555 - val_loss: 0.2573 - val_acc: 0.8880\n",
      "Epoch 12/30\n",
      " - 67s - loss: 0.3209 - acc: 0.8645 - val_loss: 0.2520 - val_acc: 0.8930\n",
      "Epoch 13/30\n",
      " - 67s - loss: 0.3221 - acc: 0.8640 - val_loss: 0.2569 - val_acc: 0.8910\n",
      "Epoch 14/30\n",
      " - 67s - loss: 0.3221 - acc: 0.8560 - val_loss: 0.2483 - val_acc: 0.9000\n",
      "Epoch 15/30\n",
      " - 67s - loss: 0.3143 - acc: 0.8635 - val_loss: 0.2462 - val_acc: 0.9020\n",
      "Epoch 16/30\n",
      " - 67s - loss: 0.3091 - acc: 0.8740 - val_loss: 0.2538 - val_acc: 0.8900\n",
      "Epoch 17/30\n",
      " - 69s - loss: 0.3133 - acc: 0.8660 - val_loss: 0.2530 - val_acc: 0.8880\n",
      "Epoch 18/30\n",
      " - 75s - loss: 0.3024 - acc: 0.8765 - val_loss: 0.2418 - val_acc: 0.9000\n",
      "Epoch 19/30\n",
      " - 90s - loss: 0.3034 - acc: 0.8725 - val_loss: 0.2421 - val_acc: 0.8970\n",
      "Epoch 20/30\n",
      " - 90s - loss: 0.2946 - acc: 0.8765 - val_loss: 0.2432 - val_acc: 0.8970\n",
      "Epoch 21/30\n",
      " - 90s - loss: 0.3014 - acc: 0.8770 - val_loss: 0.2415 - val_acc: 0.9000\n",
      "Epoch 22/30\n",
      " - 90s - loss: 0.2973 - acc: 0.8695 - val_loss: 0.2462 - val_acc: 0.8950\n",
      "Epoch 23/30\n",
      " - 91s - loss: 0.3085 - acc: 0.8695 - val_loss: 0.2386 - val_acc: 0.8990\n",
      "Epoch 24/30\n",
      " - 91s - loss: 0.2922 - acc: 0.8745 - val_loss: 0.2389 - val_acc: 0.9020\n",
      "Epoch 25/30\n",
      " - 91s - loss: 0.2829 - acc: 0.8765 - val_loss: 0.2387 - val_acc: 0.9040\n",
      "Epoch 26/30\n",
      " - 90s - loss: 0.2818 - acc: 0.8760 - val_loss: 0.2362 - val_acc: 0.9070\n",
      "Epoch 27/30\n",
      " - 90s - loss: 0.2912 - acc: 0.8695 - val_loss: 0.2420 - val_acc: 0.8990\n",
      "Epoch 28/30\n",
      " - 90s - loss: 0.2903 - acc: 0.8735 - val_loss: 0.2377 - val_acc: 0.9050\n",
      "Epoch 29/30\n",
      " - 90s - loss: 0.2738 - acc: 0.8875 - val_loss: 0.2349 - val_acc: 0.9040\n",
      "Epoch 30/30\n",
      " - 90s - loss: 0.2950 - acc: 0.8710 - val_loss: 0.2334 - val_acc: 0.9110\n"
     ]
    }
   ],
   "source": [
    "# 利用冻结的卷积基端到端地训练模型\n",
    "from keras.preprocessing.image import ImageDataGenerator\n",
    "\n",
    "train_datagen = ImageDataGenerator(\n",
    "      rescale=1./255,\n",
    "      rotation_range=40,\n",
    "      width_shift_range=0.2,\n",
    "      height_shift_range=0.2,\n",
    "      shear_range=0.2,\n",
    "      zoom_range=0.2,\n",
    "      horizontal_flip=True,\n",
    "      fill_mode='nearest')\n",
    "\n",
    "# 注意，不能增强验证数据\n",
    "test_datagen = ImageDataGenerator(rescale=1./255)\n",
    "\n",
    "train_generator = train_datagen.flow_from_directory(\n",
    "        # 目标目录\n",
    "        train_dir,\n",
    "        # 将所有图像的大小调整为 150×150\n",
    "        target_size=(150, 150),\n",
    "        batch_size=20,\n",
    "        # 因为使用了binary_crossentropy损失，所以需要用二进制标签\n",
    "        class_mode='binary')\n",
    "\n",
    "validation_generator = test_datagen.flow_from_directory(\n",
    "        validation_dir,\n",
    "        target_size=(150, 150),\n",
    "        batch_size=20,\n",
    "        class_mode='binary')\n",
    "\n",
    "model.compile(loss='binary_crossentropy',\n",
    "              optimizer=optimizers.RMSprop(lr=2e-5),\n",
    "              metrics=['acc'])\n",
    "\n",
    "history = model.fit_generator(\n",
    "      train_generator,\n",
    "      steps_per_epoch=100,\n",
    "      epochs=30,\n",
    "      validation_data=validation_generator,\n",
    "      validation_steps=50,\n",
    "      verbose=2)"
   ]
  },
  {
   "cell_type": "code",
   "execution_count": 16,
   "metadata": {},
   "outputs": [],
   "source": [
    "# 保存模型\n",
    "model.save('cats_and_dogs_small_3.h5')"
   ]
  },
  {
   "cell_type": "code",
   "execution_count": 17,
   "metadata": {},
   "outputs": [
    {
     "data": {
      "image/png": "[encoded data removed]",
      "text/plain": [
       "<Figure size 432x288 with 1 Axes>"
      ]
     },
     "metadata": {
      "needs_background": "light"
     },
     "output_type": "display_data"
    },
    {
     "data": {
      "image/png": "[encoded data removed]",
      "text/plain": [
       "<Figure size 432x288 with 1 Axes>"
      ]
     },
     "metadata": {
      "needs_background": "light"
     },
     "output_type": "display_data"
    }
   ],
   "source": [
    "# 再次绘制结果，如你所见，验证精度约为 `96%`，这比从头开始训练的小型卷积神经网络要好得多。\n",
    "acc = history.history['acc']\n",
    "val_acc = history.history['val_acc']\n",
    "loss = history.history['loss']\n",
    "val_loss = history.history['val_loss']\n",
    "\n",
    "epochs = range(len(acc))\n",
    "\n",
    "plt.plot(epochs, acc, 'bo', label='Training acc')\n",
    "plt.plot(epochs, val_acc, 'b', label='Validation acc')\n",
    "plt.title('Training and validation accuracy')\n",
    "plt.legend()\n",
    "\n",
    "plt.figure()\n",
    "\n",
    "plt.plot(epochs, loss, 'bo', label='Training loss')\n",
    "plt.plot(epochs, val_loss, 'b', label='Validation loss')\n",
    "plt.title('Training and validation loss')\n",
    "plt.legend()\n",
    "\n",
    "plt.show()"
   ]
  },
  {
   "cell_type": "markdown",
   "metadata": {},
   "source": [
    "# 3 微调模型\n",
    "\n",
    "* 另一种广泛使用的模型复用方法是**模型微调（fine-tuning），与特征提取互为补充**。\n",
    "\n",
    "* 对于用于**特征提取的冻结的模型基，微调是指将其顶部的几层“解冻”，并将这解冻的几层和新增加的部分（本例中是全连接分类器）联合训练**。\n",
    "\n",
    "* **微调，是因为它只是略微调整了所复用模型中更加抽象的表示，以便让这些表示与手头的问题更加相关。**\n",
    "\n",
    "![image.png](../img/05/微调VGG16网络的最后一个卷积块.png)\n",
    "\n",
    "冻结`VGG16`的卷积基是为了能够在上面训练一个随机初始化的分类器。同理，只有上面的分类器已经训练好了，才能微调卷积基的顶部几层。如果分类器没有训练好，那么训练期间通过网络传播的误差信号会特别大，微调的几层之前学到的表示都会被破坏。因此，微调网络的步骤如下。\n",
    "    * (1) 在已经训练好的基网络（base network）上添加自定义网络。\n",
    "    * (2) 冻结基网络。\n",
    "    * (3) 训练所添加的部分。\n",
    "    * (4) 解冻基网络的一些层。\n",
    "    * (5) 联合训练解冻的这些层和添加的部分。\n",
    "做`特征提取`时已经完成了前三个步骤。我们继续进行`第四步`：**先解冻 conv_base，然后冻结其中的部分层。**"
   ]
  },
  {
   "cell_type": "code",
   "execution_count": 18,
   "metadata": {},
   "outputs": [
    {
     "name": "stdout",
     "output_type": "stream",
     "text": [
      "_________________________________________________________________\n",
      "Layer (type)                 Output Shape              Param #   \n",
      "=================================================================\n",
      "input_1 (InputLayer)         (None, 150, 150, 3)       0         \n",
      "_________________________________________________________________\n",
      "block1_conv1 (Conv2D)        (None, 150, 150, 64)      1792      \n",
      "_________________________________________________________________\n",
      "block1_conv2 (Conv2D)        (None, 150, 150, 64)      36928     \n",
      "_________________________________________________________________\n",
      "block1_pool (MaxPooling2D)   (None, 75, 75, 64)        0         \n",
      "_________________________________________________________________\n",
      "block2_conv1 (Conv2D)        (None, 75, 75, 128)       73856     \n",
      "_________________________________________________________________\n",
      "block2_conv2 (Conv2D)        (None, 75, 75, 128)       147584    \n",
      "_________________________________________________________________\n",
      "block2_pool (MaxPooling2D)   (None, 37, 37, 128)       0         \n",
      "_________________________________________________________________\n",
      "block3_conv1 (Conv2D)        (None, 37, 37, 256)       295168    \n",
      "_________________________________________________________________\n",
      "block3_conv2 (Conv2D)        (None, 37, 37, 256)       590080    \n",
      "_________________________________________________________________\n",
      "block3_conv3 (Conv2D)        (None, 37, 37, 256)       590080    \n",
      "_________________________________________________________________\n",
      "block3_pool (MaxPooling2D)   (None, 18, 18, 256)       0         \n",
      "_________________________________________________________________\n",
      "block4_conv1 (Conv2D)        (None, 18, 18, 512)       1180160   \n",
      "_________________________________________________________________\n",
      "block4_conv2 (Conv2D)        (None, 18, 18, 512)       2359808   \n",
      "_________________________________________________________________\n",
      "block4_conv3 (Conv2D)        (None, 18, 18, 512)       2359808   \n",
      "_________________________________________________________________\n",
      "block4_pool (MaxPooling2D)   (None, 9, 9, 512)         0         \n",
      "_________________________________________________________________\n",
      "block5_conv1 (Conv2D)        (None, 9, 9, 512)         2359808   \n",
      "_________________________________________________________________\n",
      "block5_conv2 (Conv2D)        (None, 9, 9, 512)         2359808   \n",
      "_________________________________________________________________\n",
      "block5_conv3 (Conv2D)        (None, 9, 9, 512)         2359808   \n",
      "_________________________________________________________________\n",
      "block5_pool (MaxPooling2D)   (None, 4, 4, 512)         0         \n",
      "=================================================================\n",
      "Total params: 14,714,688\n",
      "Trainable params: 0\n",
      "Non-trainable params: 14,714,688\n",
      "_________________________________________________________________\n"
     ]
    }
   ],
   "source": [
    "conv_base.summary()"
   ]
  },
  {
   "cell_type": "markdown",
   "metadata": {},
   "source": [
    "我们将微调最后三个卷积层，也就是说，直到`block4_pool`的所有层都应该被冻结，而`block5_conv1`、`block5_conv2` 和 `block5_conv3` 三层应该是可训练的。\n",
    "\n",
    "为什么不微调更多层？为什么不微调整个卷积基？你当然可以这么做，但需要考虑以下几点。\n",
    "* **卷积基中更靠底部的层编码的是更加通用的可复用特征，而更靠顶部的层编码的是更专业化的特征**。微调这些更专业化的特征更加有用，因为它们需要在你的新问题上改变用途。微调更靠底部的层，得到的回报会更少。\n",
    "* **训练的参数越多，过拟合的风险越大**。卷积基有`1500`万个参数，所以在你的小型数据集上训练这么多参数是有风险的。因此，在这种情况下，一个好策略是仅微调卷积基最后的两三层。我们从上一个例子结束的地方开始，继续实现此方法。"
   ]
  },
  {
   "cell_type": "code",
   "execution_count": 19,
   "metadata": {},
   "outputs": [],
   "source": [
    "# 冻结直到某一层的所有层\n",
    "conv_base.trainable = True\n",
    "\n",
    "set_trainable = False\n",
    "for layer in conv_base.layers:\n",
    "    if layer.name == 'block5_conv1':\n",
    "        set_trainable = True\n",
    "    if set_trainable:\n",
    "        layer.trainable = True\n",
    "    else:\n",
    "        layer.trainable = False"
   ]
  },
  {
   "cell_type": "markdown",
   "metadata": {},
   "source": [
    "现在你可以开始微调网络。我们将使用学习率非常小的 `RMSProp` 优化器来实现。之所以让学习率很小，是因为对于微调的三层表示，我们希望其变化范围不要太大。太大的权重更新可能会破坏这些表示。"
   ]
  },
  {
   "cell_type": "code",
   "execution_count": 20,
   "metadata": {
    "scrolled": false
   },
   "outputs": [
    {
     "name": "stdout",
     "output_type": "stream",
     "text": [
      "Epoch 1/100\n",
      "100/100 [==============================] - 72s 716ms/step - loss: 0.2907 - acc: 0.8775 - val_loss: 0.2129 - val_acc: 0.9190\n",
      "Epoch 2/100\n",
      "100/100 [==============================] - 76s 762ms/step - loss: 0.2606 - acc: 0.8920 - val_loss: 0.1981 - val_acc: 0.9190\n",
      "Epoch 3/100\n",
      "100/100 [==============================] - 76s 763ms/step - loss: 0.2310 - acc: 0.9060 - val_loss: 0.2150 - val_acc: 0.9160\n",
      "Epoch 4/100\n",
      "100/100 [==============================] - 76s 762ms/step - loss: 0.2308 - acc: 0.8995 - val_loss: 0.1979 - val_acc: 0.9220\n",
      "Epoch 5/100\n",
      "100/100 [==============================] - 77s 766ms/step - loss: 0.2131 - acc: 0.9135 - val_loss: 0.1902 - val_acc: 0.9270\n",
      "Epoch 6/100\n",
      "100/100 [==============================] - 78s 784ms/step - loss: 0.1865 - acc: 0.9235 - val_loss: 0.2004 - val_acc: 0.9240\n",
      "Epoch 7/100\n",
      "100/100 [==============================] - 78s 784ms/step - loss: 0.1878 - acc: 0.9170 - val_loss: 0.1923 - val_acc: 0.9240\n",
      "Epoch 8/100\n",
      "100/100 [==============================] - 78s 784ms/step - loss: 0.1655 - acc: 0.9310 - val_loss: 0.2180 - val_acc: 0.9180\n",
      "Epoch 9/100\n",
      "100/100 [==============================] - 78s 784ms/step - loss: 0.1661 - acc: 0.9305 - val_loss: 0.1860 - val_acc: 0.9250\n",
      "Epoch 10/100\n",
      "100/100 [==============================] - 78s 783ms/step - loss: 0.1534 - acc: 0.9425 - val_loss: 0.2264 - val_acc: 0.9190\n",
      "Epoch 11/100\n",
      "100/100 [==============================] - 78s 784ms/step - loss: 0.1581 - acc: 0.9335 - val_loss: 0.2214 - val_acc: 0.9240\n",
      "Epoch 12/100\n",
      "100/100 [==============================] - 78s 785ms/step - loss: 0.1408 - acc: 0.9420 - val_loss: 0.1810 - val_acc: 0.9280\n",
      "Epoch 13/100\n",
      "100/100 [==============================] - 78s 783ms/step - loss: 0.1249 - acc: 0.9400 - val_loss: 0.1793 - val_acc: 0.9270\n",
      "Epoch 14/100\n",
      "100/100 [==============================] - 78s 783ms/step - loss: 0.1214 - acc: 0.9550 - val_loss: 0.1839 - val_acc: 0.9260\n",
      "Epoch 15/100\n",
      "100/100 [==============================] - 78s 783ms/step - loss: 0.1105 - acc: 0.9605 - val_loss: 0.2044 - val_acc: 0.9240\n",
      "Epoch 16/100\n",
      "100/100 [==============================] - 78s 783ms/step - loss: 0.1045 - acc: 0.9600 - val_loss: 0.2046 - val_acc: 0.9230\n",
      "Epoch 17/100\n",
      "100/100 [==============================] - 78s 783ms/step - loss: 0.1104 - acc: 0.9525 - val_loss: 0.2120 - val_acc: 0.9210\n",
      "Epoch 18/100\n",
      "100/100 [==============================] - 78s 783ms/step - loss: 0.1237 - acc: 0.9520 - val_loss: 0.2754 - val_acc: 0.9080\n",
      "Epoch 19/100\n",
      "100/100 [==============================] - 78s 783ms/step - loss: 0.0941 - acc: 0.9610 - val_loss: 0.2508 - val_acc: 0.9190\n",
      "Epoch 20/100\n",
      "100/100 [==============================] - 79s 788ms/step - loss: 0.0916 - acc: 0.9640 - val_loss: 0.1901 - val_acc: 0.9310\n",
      "Epoch 21/100\n",
      "100/100 [==============================] - 81s 812ms/step - loss: 0.0923 - acc: 0.9685 - val_loss: 0.1691 - val_acc: 0.9340\n",
      "Epoch 22/100\n",
      "100/100 [==============================] - 81s 813ms/step - loss: 0.0940 - acc: 0.9685 - val_loss: 0.2089 - val_acc: 0.9330\n",
      "Epoch 23/100\n",
      "100/100 [==============================] - 81s 814ms/step - loss: 0.0853 - acc: 0.9660 - val_loss: 0.1993 - val_acc: 0.9350\n",
      "Epoch 24/100\n",
      "100/100 [==============================] - 81s 812ms/step - loss: 0.0781 - acc: 0.9690 - val_loss: 0.2139 - val_acc: 0.9340\n",
      "Epoch 25/100\n",
      "100/100 [==============================] - 81s 812ms/step - loss: 0.0847 - acc: 0.9665 - val_loss: 0.3542 - val_acc: 0.9020\n",
      "Epoch 26/100\n",
      "100/100 [==============================] - 81s 813ms/step - loss: 0.0833 - acc: 0.9690 - val_loss: 0.2097 - val_acc: 0.9350\n",
      "Epoch 27/100\n",
      "100/100 [==============================] - 81s 813ms/step - loss: 0.0812 - acc: 0.9695 - val_loss: 0.1858 - val_acc: 0.9340\n",
      "Epoch 28/100\n",
      "100/100 [==============================] - 81s 812ms/step - loss: 0.0691 - acc: 0.9765 - val_loss: 0.2665 - val_acc: 0.9210\n",
      "Epoch 29/100\n",
      "100/100 [==============================] - 81s 815ms/step - loss: 0.0652 - acc: 0.9760 - val_loss: 0.1957 - val_acc: 0.9350\n",
      "Epoch 30/100\n",
      "100/100 [==============================] - 81s 813ms/step - loss: 0.0723 - acc: 0.9705 - val_loss: 0.1894 - val_acc: 0.9360\n",
      "Epoch 31/100\n",
      "100/100 [==============================] - 81s 812ms/step - loss: 0.0616 - acc: 0.9775 - val_loss: 0.2107 - val_acc: 0.9300\n",
      "Epoch 32/100\n",
      "100/100 [==============================] - 81s 812ms/step - loss: 0.0623 - acc: 0.9755 - val_loss: 0.2017 - val_acc: 0.9270\n",
      "Epoch 33/100\n",
      "100/100 [==============================] - 81s 812ms/step - loss: 0.0547 - acc: 0.9785 - val_loss: 0.2822 - val_acc: 0.9250\n",
      "Epoch 34/100\n",
      "100/100 [==============================] - 81s 812ms/step - loss: 0.0578 - acc: 0.9790 - val_loss: 0.2392 - val_acc: 0.9300\n",
      "Epoch 35/100\n",
      "100/100 [==============================] - 81s 812ms/step - loss: 0.0646 - acc: 0.9765 - val_loss: 0.2123 - val_acc: 0.9310\n",
      "Epoch 36/100\n",
      "100/100 [==============================] - 81s 812ms/step - loss: 0.0449 - acc: 0.9835 - val_loss: 0.2270 - val_acc: 0.9290\n",
      "Epoch 37/100\n",
      "100/100 [==============================] - 81s 813ms/step - loss: 0.0574 - acc: 0.9785 - val_loss: 0.2123 - val_acc: 0.9290\n",
      "Epoch 38/100\n",
      "100/100 [==============================] - 81s 812ms/step - loss: 0.0547 - acc: 0.9770 - val_loss: 0.2096 - val_acc: 0.9390\n",
      "Epoch 39/100\n",
      "100/100 [==============================] - 81s 811ms/step - loss: 0.0570 - acc: 0.9800 - val_loss: 0.2041 - val_acc: 0.9340\n",
      "Epoch 40/100\n",
      "100/100 [==============================] - 81s 812ms/step - loss: 0.0541 - acc: 0.9795 - val_loss: 0.2005 - val_acc: 0.9400\n",
      "Epoch 41/100\n",
      "100/100 [==============================] - 81s 812ms/step - loss: 0.0463 - acc: 0.9820 - val_loss: 0.2395 - val_acc: 0.9330\n",
      "Epoch 42/100\n",
      "100/100 [==============================] - 81s 812ms/step - loss: 0.0463 - acc: 0.9820 - val_loss: 0.2081 - val_acc: 0.9410\n",
      "Epoch 43/100\n",
      "100/100 [==============================] - 81s 812ms/step - loss: 0.0480 - acc: 0.9780 - val_loss: 0.2094 - val_acc: 0.9360\n",
      "Epoch 44/100\n",
      "100/100 [==============================] - 81s 813ms/step - loss: 0.0492 - acc: 0.9855 - val_loss: 0.2388 - val_acc: 0.9330\n",
      "Epoch 45/100\n",
      "100/100 [==============================] - 81s 812ms/step - loss: 0.0374 - acc: 0.9885 - val_loss: 0.2145 - val_acc: 0.9350\n",
      "Epoch 46/100\n",
      "100/100 [==============================] - 81s 812ms/step - loss: 0.0489 - acc: 0.9845 - val_loss: 0.2144 - val_acc: 0.9440\n",
      "Epoch 47/100\n",
      "100/100 [==============================] - 81s 813ms/step - loss: 0.0501 - acc: 0.9845 - val_loss: 0.2035 - val_acc: 0.9310\n",
      "Epoch 48/100\n",
      "100/100 [==============================] - 81s 812ms/step - loss: 0.0339 - acc: 0.9885 - val_loss: 0.2151 - val_acc: 0.9380\n",
      "Epoch 49/100\n",
      "100/100 [==============================] - 81s 812ms/step - loss: 0.0435 - acc: 0.9875 - val_loss: 0.2135 - val_acc: 0.9390\n",
      "Epoch 50/100\n",
      "100/100 [==============================] - 81s 812ms/step - loss: 0.0381 - acc: 0.9875 - val_loss: 0.2311 - val_acc: 0.9210\n",
      "Epoch 51/100\n",
      "100/100 [==============================] - 81s 812ms/step - loss: 0.0429 - acc: 0.9845 - val_loss: 0.2099 - val_acc: 0.9370\n",
      "Epoch 52/100\n",
      "100/100 [==============================] - 81s 812ms/step - loss: 0.0412 - acc: 0.9870 - val_loss: 0.2586 - val_acc: 0.9290\n",
      "Epoch 53/100\n",
      "100/100 [==============================] - 81s 813ms/step - loss: 0.0386 - acc: 0.9845 - val_loss: 0.2308 - val_acc: 0.9370\n",
      "Epoch 54/100\n",
      "100/100 [==============================] - 81s 812ms/step - loss: 0.0291 - acc: 0.9905 - val_loss: 0.3198 - val_acc: 0.9290\n",
      "Epoch 55/100\n",
      "100/100 [==============================] - 81s 812ms/step - loss: 0.0342 - acc: 0.9865 - val_loss: 0.3478 - val_acc: 0.9260\n",
      "Epoch 56/100\n",
      "100/100 [==============================] - 81s 812ms/step - loss: 0.0400 - acc: 0.9840 - val_loss: 0.2143 - val_acc: 0.9390\n",
      "Epoch 57/100\n",
      "100/100 [==============================] - 81s 812ms/step - loss: 0.0229 - acc: 0.9935 - val_loss: 0.2278 - val_acc: 0.9330\n",
      "Epoch 58/100\n",
      "100/100 [==============================] - 81s 814ms/step - loss: 0.0366 - acc: 0.9850 - val_loss: 0.2587 - val_acc: 0.9400\n",
      "Epoch 59/100\n",
      "100/100 [==============================] - 81s 811ms/step - loss: 0.0397 - acc: 0.9860 - val_loss: 0.2756 - val_acc: 0.9320\n",
      "Epoch 60/100\n",
      "100/100 [==============================] - 81s 811ms/step - loss: 0.0280 - acc: 0.9925 - val_loss: 0.2824 - val_acc: 0.9350\n"
     ]
    },
    {
     "name": "stdout",
     "output_type": "stream",
     "text": [
      "Epoch 61/100\n",
      "100/100 [==============================] - 81s 811ms/step - loss: 0.0327 - acc: 0.9885 - val_loss: 0.3541 - val_acc: 0.9230\n",
      "Epoch 62/100\n",
      "100/100 [==============================] - 81s 811ms/step - loss: 0.0289 - acc: 0.9920 - val_loss: 0.2276 - val_acc: 0.9360\n",
      "Epoch 63/100\n",
      "100/100 [==============================] - 81s 812ms/step - loss: 0.0337 - acc: 0.9910 - val_loss: 0.2515 - val_acc: 0.9370\n",
      "Epoch 64/100\n",
      "100/100 [==============================] - 81s 812ms/step - loss: 0.0266 - acc: 0.9905 - val_loss: 0.2893 - val_acc: 0.9340\n",
      "Epoch 65/100\n",
      "100/100 [==============================] - 81s 812ms/step - loss: 0.0288 - acc: 0.9905 - val_loss: 0.2280 - val_acc: 0.9460\n",
      "Epoch 66/100\n",
      "100/100 [==============================] - 81s 811ms/step - loss: 0.0381 - acc: 0.9890 - val_loss: 0.3074 - val_acc: 0.9320\n",
      "Epoch 67/100\n",
      "100/100 [==============================] - 81s 811ms/step - loss: 0.0230 - acc: 0.9915 - val_loss: 0.2727 - val_acc: 0.9360\n",
      "Epoch 68/100\n",
      "100/100 [==============================] - 81s 811ms/step - loss: 0.0187 - acc: 0.9955 - val_loss: 0.3597 - val_acc: 0.9240\n",
      "Epoch 69/100\n",
      "100/100 [==============================] - 81s 811ms/step - loss: 0.0252 - acc: 0.9905 - val_loss: 0.2499 - val_acc: 0.9410\n",
      "Epoch 70/100\n",
      "100/100 [==============================] - 81s 811ms/step - loss: 0.0288 - acc: 0.9910 - val_loss: 0.2553 - val_acc: 0.9400\n",
      "Epoch 71/100\n",
      "100/100 [==============================] - 81s 814ms/step - loss: 0.0306 - acc: 0.9910 - val_loss: 0.2642 - val_acc: 0.9370\n",
      "Epoch 72/100\n",
      "100/100 [==============================] - 81s 811ms/step - loss: 0.0286 - acc: 0.9905 - val_loss: 0.3565 - val_acc: 0.9260\n",
      "Epoch 73/100\n",
      "100/100 [==============================] - 81s 811ms/step - loss: 0.0254 - acc: 0.9915 - val_loss: 0.2418 - val_acc: 0.9330\n",
      "Epoch 74/100\n",
      "100/100 [==============================] - 81s 811ms/step - loss: 0.0245 - acc: 0.9895 - val_loss: 0.2432 - val_acc: 0.9400\n",
      "Epoch 75/100\n",
      "100/100 [==============================] - 81s 811ms/step - loss: 0.0334 - acc: 0.9880 - val_loss: 0.2252 - val_acc: 0.9440\n",
      "Epoch 76/100\n",
      "100/100 [==============================] - 81s 811ms/step - loss: 0.0232 - acc: 0.9925 - val_loss: 0.2751 - val_acc: 0.9380\n",
      "Epoch 77/100\n",
      "100/100 [==============================] - 81s 811ms/step - loss: 0.0214 - acc: 0.9930 - val_loss: 0.2525 - val_acc: 0.9450\n",
      "Epoch 78/100\n",
      "100/100 [==============================] - 81s 812ms/step - loss: 0.0232 - acc: 0.9895 - val_loss: 0.2959 - val_acc: 0.9350\n",
      "Epoch 79/100\n",
      "100/100 [==============================] - 81s 811ms/step - loss: 0.0232 - acc: 0.9955 - val_loss: 0.3052 - val_acc: 0.9330\n",
      "Epoch 80/100\n",
      "100/100 [==============================] - 81s 812ms/step - loss: 0.0262 - acc: 0.9910 - val_loss: 0.2386 - val_acc: 0.9440\n",
      "Epoch 81/100\n",
      "100/100 [==============================] - 81s 811ms/step - loss: 0.0246 - acc: 0.9895 - val_loss: 0.3000 - val_acc: 0.9350\n",
      "Epoch 82/100\n",
      "100/100 [==============================] - 81s 812ms/step - loss: 0.0163 - acc: 0.9940 - val_loss: 0.2677 - val_acc: 0.9390\n",
      "Epoch 83/100\n",
      "100/100 [==============================] - 81s 811ms/step - loss: 0.0211 - acc: 0.9925 - val_loss: 0.4163 - val_acc: 0.9160\n",
      "Epoch 84/100\n",
      "100/100 [==============================] - 81s 811ms/step - loss: 0.0317 - acc: 0.9885 - val_loss: 0.3036 - val_acc: 0.9340\n",
      "Epoch 85/100\n",
      "100/100 [==============================] - 81s 811ms/step - loss: 0.0253 - acc: 0.9895 - val_loss: 0.2470 - val_acc: 0.9360\n",
      "Epoch 86/100\n",
      "100/100 [==============================] - 81s 811ms/step - loss: 0.0142 - acc: 0.9965 - val_loss: 0.2383 - val_acc: 0.9370\n",
      "Epoch 87/100\n",
      "100/100 [==============================] - 81s 811ms/step - loss: 0.0196 - acc: 0.9930 - val_loss: 0.2275 - val_acc: 0.9410\n",
      "Epoch 88/100\n",
      "100/100 [==============================] - 81s 811ms/step - loss: 0.0227 - acc: 0.9900 - val_loss: 0.3479 - val_acc: 0.9300\n",
      "Epoch 89/100\n",
      "100/100 [==============================] - 81s 811ms/step - loss: 0.0162 - acc: 0.9945 - val_loss: 0.4167 - val_acc: 0.9170\n",
      "Epoch 90/100\n",
      "100/100 [==============================] - 81s 811ms/step - loss: 0.0179 - acc: 0.9930 - val_loss: 0.2722 - val_acc: 0.9350\n",
      "Epoch 91/100\n",
      "100/100 [==============================] - 81s 811ms/step - loss: 0.0133 - acc: 0.9945 - val_loss: 0.3088 - val_acc: 0.9390\n",
      "Epoch 92/100\n",
      "100/100 [==============================] - 81s 811ms/step - loss: 0.0224 - acc: 0.9910 - val_loss: 0.2855 - val_acc: 0.9390\n",
      "Epoch 93/100\n",
      "100/100 [==============================] - 81s 811ms/step - loss: 0.0185 - acc: 0.9935 - val_loss: 0.2459 - val_acc: 0.9400\n",
      "Epoch 94/100\n",
      "100/100 [==============================] - 81s 811ms/step - loss: 0.0230 - acc: 0.9920 - val_loss: 0.3172 - val_acc: 0.9370\n",
      "Epoch 95/100\n",
      "100/100 [==============================] - 81s 811ms/step - loss: 0.0171 - acc: 0.9955 - val_loss: 0.3071 - val_acc: 0.9340\n",
      "Epoch 96/100\n",
      "100/100 [==============================] - 81s 812ms/step - loss: 0.0199 - acc: 0.9920 - val_loss: 0.2542 - val_acc: 0.9420\n",
      "Epoch 97/100\n",
      "100/100 [==============================] - 81s 812ms/step - loss: 0.0257 - acc: 0.9890 - val_loss: 0.2882 - val_acc: 0.9420\n",
      "Epoch 98/100\n",
      "100/100 [==============================] - 81s 811ms/step - loss: 0.0150 - acc: 0.9955 - val_loss: 0.2603 - val_acc: 0.9370\n",
      "Epoch 99/100\n",
      "100/100 [==============================] - 81s 811ms/step - loss: 0.0153 - acc: 0.9940 - val_loss: 0.2841 - val_acc: 0.9360\n",
      "Epoch 100/100\n",
      "100/100 [==============================] - 81s 811ms/step - loss: 0.0230 - acc: 0.9945 - val_loss: 0.3818 - val_acc: 0.9300\n"
     ]
    }
   ],
   "source": [
    "# 微调模型\n",
    "\n",
    "model.compile(loss='binary_crossentropy',\n",
    "              optimizer=optimizers.RMSprop(lr=1e-5),\n",
    "              metrics=['acc'])\n",
    "\n",
    "history = model.fit_generator(\n",
    "      train_generator,\n",
    "      steps_per_epoch=100,\n",
    "      epochs=100,\n",
    "      validation_data=validation_generator,\n",
    "      validation_steps=50)"
   ]
  },
  {
   "cell_type": "code",
   "execution_count": 21,
   "metadata": {},
   "outputs": [],
   "source": [
    "model.save('cats_and_dogs_small_4.h5')"
   ]
  },
  {
   "cell_type": "code",
   "execution_count": 22,
   "metadata": {},
   "outputs": [
    {
     "data": {
      "image/png": "[encoded data removed]",
      "text/plain": [
       "<Figure size 432x288 with 1 Axes>"
      ]
     },
     "metadata": {
      "needs_background": "light"
     },
     "output_type": "display_data"
    },
    {
     "data": {
      "image/png": "[encoded data removed]",
      "text/plain": [
       "<Figure size 432x288 with 1 Axes>"
      ]
     },
     "metadata": {
      "needs_background": "light"
     },
     "output_type": "display_data"
    }
   ],
   "source": [
    "acc = history.history['acc']\n",
    "val_acc = history.history['val_acc']\n",
    "loss = history.history['loss']\n",
    "val_loss = history.history['val_loss']\n",
    "\n",
    "epochs = range(len(acc))\n",
    "\n",
    "plt.plot(epochs, acc, 'bo', label='Training acc')\n",
    "plt.plot(epochs, val_acc, 'b', label='Validation acc')\n",
    "plt.title('Training and validation accuracy')\n",
    "plt.legend()\n",
    "\n",
    "plt.figure()\n",
    "\n",
    "plt.plot(epochs, loss, 'bo', label='Training loss')\n",
    "plt.plot(epochs, val_loss, 'b', label='Validation loss')\n",
    "plt.title('Training and validation loss')\n",
    "plt.legend()\n",
    "\n",
    "plt.show()"
   ]
  },
  {
   "cell_type": "code",
   "execution_count": 23,
   "metadata": {},
   "outputs": [
    {
     "data": {
      "image/png": "[encoded data removed]",
      "text/plain": [
       "<Figure size 432x288 with 1 Axes>"
      ]
     },
     "metadata": {
      "needs_background": "light"
     },
     "output_type": "display_data"
    },
    {
     "data": {
      "image/png": "[encoded data removed]",
      "text/plain": [
       "<Figure size 432x288 with 1 Axes>"
      ]
     },
     "metadata": {
      "needs_background": "light"
     },
     "output_type": "display_data"
    }
   ],
   "source": [
    "# 这些曲线看起来包含噪声。为了让图像更具可读性，你可以将每个损失和精度都替换为指数移动平均值，从而让曲线变得平滑。\n",
    "# 下面用一个简单的实用函数来实现\n",
    "\n",
    "# 使曲线变得平滑\n",
    "def smooth_curve(points, factor=0.8):\n",
    "  smoothed_points = []\n",
    "  for point in points:\n",
    "    if smoothed_points:\n",
    "      previous = smoothed_points[-1]\n",
    "      smoothed_points.append(previous * factor + point * (1 - factor))\n",
    "    else:\n",
    "      smoothed_points.append(point)\n",
    "  return smoothed_points\n",
    "\n",
    "plt.plot(epochs,\n",
    "         smooth_curve(acc), 'bo', label='Smoothed training acc')\n",
    "plt.plot(epochs,\n",
    "         smooth_curve(val_acc), 'b', label='Smoothed validation acc')\n",
    "plt.title('Training and validation accuracy')\n",
    "plt.legend()\n",
    "\n",
    "plt.figure()\n",
    "\n",
    "plt.plot(epochs,\n",
    "         smooth_curve(loss), 'bo', label='Smoothed training loss')\n",
    "plt.plot(epochs,\n",
    "         smooth_curve(val_loss), 'b', label='Smoothed validation loss')\n",
    "plt.title('Training and validation loss')\n",
    "plt.legend()\n",
    "\n",
    "plt.show()"
   ]
  },
  {
   "cell_type": "markdown",
   "metadata": {},
   "source": [
    "验证精度曲线变得更清楚。可以看到，精度值提高了`1%`，从约 `96%` 提高到 `97%` 以上\n",
    "\n",
    "注意，从损失曲线上看不出与之前相比有任何真正的提高（实际上还在变差）。你可能感到奇怪，如果损失没有降低，那么精度怎么能保持稳定或提高呢？答案很简单：图中展示的是逐点（pointwise）损失值的平均值，但影响精度的是损失值的分布，而不是平均值，因为精度是模型预测的类别概率的二进制阈值。即使从平均损失中无法看出，但模型也仍然可能在改进。现在，你可以在测试数据上最终评估这个模型。"
   ]
  },
  {
   "cell_type": "code",
   "execution_count": 24,
   "metadata": {},
   "outputs": [
    {
     "name": "stdout",
     "output_type": "stream",
     "text": [
      "Found 1000 images belonging to 2 classes.\n",
      "test acc: 0.9319999873638153\n"
     ]
    }
   ],
   "source": [
    "test_generator = test_datagen.flow_from_directory(\n",
    "        test_dir,\n",
    "        target_size=(150, 150),\n",
    "        batch_size=20,\n",
    "        class_mode='binary')\n",
    "\n",
    "test_loss, test_acc = model.evaluate_generator(test_generator, steps=50)\n",
    "print('test acc:', test_acc)"
   ]
  },
  {
   "cell_type": "markdown",
   "metadata": {},
   "source": [
    "# 4 总结\n",
    "* 卷积神经网络是用于计算机视觉任务的最佳机器学习模型。即使在非常小的数据集上也可以从头开始训练一个卷积神经网络，而且得到的结果还不错。\n",
    "* 在小型数据集上的主要问题是过拟合。在处理图像数据时，数据增强是一种降低过拟合的强大方法。\n",
    "* 利用特征提取，可以很容易将现有的卷积神经网络复用于新的数据集。对于小型图像数据集，这是一种很有价值的方法。\n",
    "* 作为特征提取的补充，你还可以使用微调，将现有模型之前学到的一些数据表示应用于新问题。这种方法可以进一步提高模型性能。\n",
    "\n",
    "现在你已经拥有一套可靠的工具来处理图像分类问题，特别是对于小型数据集。"
   ]
  }
 ],
 "metadata": {
  "kernelspec": {
   "display_name": "Python 3",
   "language": "python",
   "name": "python3"
  },
  "language_info": {
   "codemirror_mode": {
    "name": "ipython",
    "version": 3
   },
   "file_extension": ".py",
   "mimetype": "text/x-python",
   "name": "python",
   "nbconvert_exporter": "python",
   "pygments_lexer": "ipython3",
   "version": "3.5.4"
  }
 },
 "nbformat": 4,
 "nbformat_minor": 2
}
